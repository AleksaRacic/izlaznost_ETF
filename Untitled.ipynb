{
 "cells": [
  {
   "cell_type": "code",
   "execution_count": null,
   "metadata": {},
   "outputs": [],
   "source": [
    "!pip3 install pandas"
   ]
  },
  {
   "cell_type": "code",
   "execution_count": 8,
   "metadata": {},
   "outputs": [
    {
     "name": "stdout",
     "output_type": "stream",
     "text": [
      "Defaulting to user installation because normal site-packages is not writeable\n",
      "Collecting openpyxl\n",
      "  Downloading openpyxl-3.0.9-py2.py3-none-any.whl (242 kB)\n",
      "Collecting et-xmlfile\n",
      "  Downloading et_xmlfile-1.1.0-py3-none-any.whl (4.7 kB)\n",
      "Installing collected packages: et-xmlfile, openpyxl\n",
      "Successfully installed et-xmlfile-1.1.0 openpyxl-3.0.9\n"
     ]
    }
   ],
   "source": [
    "!\"c:\\Program Files\\Python36\\python.exe\" -m pip install openpyxl"
   ]
  },
  {
   "cell_type": "code",
   "execution_count": 9,
   "metadata": {},
   "outputs": [],
   "source": [
    "import pandas as pd\n",
    "df = pd.read_excel('SQL_export/2022-05-16-etf-izlaznost.xlsx', engine='openpyxl')"
   ]
  },
  {
   "cell_type": "code",
   "execution_count": 18,
   "metadata": {},
   "outputs": [
    {
     "data": {
      "text/plain": [
       "Index(['tip_roka', 'skolska_godina_roka', 'akronim_predmeta', 'naziv_predmeta',\n",
       "       'godina_studija', 'akronim_profila', 'naziv_profila',\n",
       "       'ukupno_prijavilo', 'ukupno_izaslo'],\n",
       "      dtype='object')"
      ]
     },
     "execution_count": 18,
     "metadata": {},
     "output_type": "execute_result"
    }
   ],
   "source": [
    "df.columns"
   ]
  },
  {
   "cell_type": "code",
   "execution_count": 20,
   "metadata": {},
   "outputs": [
    {
     "data": {
      "text/html": [
       "<div>\n",
       "<style scoped>\n",
       "    .dataframe tbody tr th:only-of-type {\n",
       "        vertical-align: middle;\n",
       "    }\n",
       "\n",
       "    .dataframe tbody tr th {\n",
       "        vertical-align: top;\n",
       "    }\n",
       "\n",
       "    .dataframe thead th {\n",
       "        text-align: right;\n",
       "    }\n",
       "</style>\n",
       "<table border=\"1\" class=\"dataframe\">\n",
       "  <thead>\n",
       "    <tr style=\"text-align: right;\">\n",
       "      <th></th>\n",
       "      <th>tip_roka</th>\n",
       "      <th>skolska_godina_roka</th>\n",
       "      <th>akronim_predmeta</th>\n",
       "      <th>naziv_predmeta</th>\n",
       "      <th>godina_studija</th>\n",
       "      <th>akronim_profila</th>\n",
       "      <th>naziv_profila</th>\n",
       "      <th>ukupno_prijavilo</th>\n",
       "      <th>ukupno_izaslo</th>\n",
       "    </tr>\n",
       "  </thead>\n",
       "  <tbody>\n",
       "    <tr>\n",
       "      <th>0</th>\n",
       "      <td>јануар</td>\n",
       "      <td>2016</td>\n",
       "      <td>13Д011ММЕ</td>\n",
       "      <td>Математичко моделирање у електротермији</td>\n",
       "      <td>1.0</td>\n",
       "      <td>ДС ЕМС</td>\n",
       "      <td>модул Електроенергетске мреже и системи</td>\n",
       "      <td>1</td>\n",
       "      <td>1</td>\n",
       "    </tr>\n",
       "    <tr>\n",
       "      <th>1</th>\n",
       "      <td>јануар</td>\n",
       "      <td>2016</td>\n",
       "      <td>13Д011НСЕ</td>\n",
       "      <td>Надгледање стања електричних машина у погону</td>\n",
       "      <td>2.0</td>\n",
       "      <td>ДС ЕМС</td>\n",
       "      <td>модул Електроенергетске мреже и системи</td>\n",
       "      <td>1</td>\n",
       "      <td>0</td>\n",
       "    </tr>\n",
       "    <tr>\n",
       "      <th>2</th>\n",
       "      <td>јануар</td>\n",
       "      <td>2016</td>\n",
       "      <td>13Д011ППМ</td>\n",
       "      <td>Прелазне појаве у електричним машинама</td>\n",
       "      <td>2.0</td>\n",
       "      <td>ДС ЕМС</td>\n",
       "      <td>модул Електроенергетске мреже и системи</td>\n",
       "      <td>1</td>\n",
       "      <td>0</td>\n",
       "    </tr>\n",
       "    <tr>\n",
       "      <th>3</th>\n",
       "      <td>јануар</td>\n",
       "      <td>2016</td>\n",
       "      <td>13Д021ДС</td>\n",
       "      <td>Дистрибутивни системи - оптимално планирање и ...</td>\n",
       "      <td>1.0</td>\n",
       "      <td>ДС ЕМС</td>\n",
       "      <td>модул Електроенергетске мреже и системи</td>\n",
       "      <td>1</td>\n",
       "      <td>1</td>\n",
       "    </tr>\n",
       "    <tr>\n",
       "      <th>4</th>\n",
       "      <td>јануар</td>\n",
       "      <td>2016</td>\n",
       "      <td>13Д021ИОИ</td>\n",
       "      <td>Интеграција обновљивих извора у дистрибутивни ...</td>\n",
       "      <td>1.0</td>\n",
       "      <td>ДС13 ЕМС</td>\n",
       "      <td>модул Електроенергетске мреже и системи</td>\n",
       "      <td>1</td>\n",
       "      <td>1</td>\n",
       "    </tr>\n",
       "    <tr>\n",
       "      <th>...</th>\n",
       "      <td>...</td>\n",
       "      <td>...</td>\n",
       "      <td>...</td>\n",
       "      <td>...</td>\n",
       "      <td>...</td>\n",
       "      <td>...</td>\n",
       "      <td>...</td>\n",
       "      <td>...</td>\n",
       "      <td>...</td>\n",
       "    </tr>\n",
       "    <tr>\n",
       "      <th>29633</th>\n",
       "      <td>јануар</td>\n",
       "      <td>2021</td>\n",
       "      <td>ОЗП1.0</td>\n",
       "      <td>Дистрибуирани рачунарски системи</td>\n",
       "      <td>1.0</td>\n",
       "      <td>МС19 ДР</td>\n",
       "      <td>модул Дистрибуирано рачунарство</td>\n",
       "      <td>3</td>\n",
       "      <td>0</td>\n",
       "    </tr>\n",
       "    <tr>\n",
       "      <th>29634</th>\n",
       "      <td>јануар</td>\n",
       "      <td>2021</td>\n",
       "      <td>ОЗП1.0</td>\n",
       "      <td>Дистрибуирани рачунарски системи</td>\n",
       "      <td>1.0</td>\n",
       "      <td>МС19 ОУ</td>\n",
       "      <td>модул Организација и управљање</td>\n",
       "      <td>1</td>\n",
       "      <td>0</td>\n",
       "    </tr>\n",
       "    <tr>\n",
       "      <th>29635</th>\n",
       "      <td>јануар</td>\n",
       "      <td>2021</td>\n",
       "      <td>ОЗП2.0</td>\n",
       "      <td>Наука о подацима</td>\n",
       "      <td>1.0</td>\n",
       "      <td>МС19 АП</td>\n",
       "      <td>модул Анализа података</td>\n",
       "      <td>5</td>\n",
       "      <td>2</td>\n",
       "    </tr>\n",
       "    <tr>\n",
       "      <th>29636</th>\n",
       "      <td>јануар</td>\n",
       "      <td>2021</td>\n",
       "      <td>ОЗП2.0</td>\n",
       "      <td>Наука о подацима</td>\n",
       "      <td>1.0</td>\n",
       "      <td>МС19 ДР</td>\n",
       "      <td>модул Дистрибуирано рачунарство</td>\n",
       "      <td>3</td>\n",
       "      <td>2</td>\n",
       "    </tr>\n",
       "    <tr>\n",
       "      <th>29637</th>\n",
       "      <td>јануар</td>\n",
       "      <td>2021</td>\n",
       "      <td>ОЗП2.0</td>\n",
       "      <td>Наука о подацима</td>\n",
       "      <td>1.0</td>\n",
       "      <td>МС19 ОУ</td>\n",
       "      <td>модул Организација и управљање</td>\n",
       "      <td>3</td>\n",
       "      <td>1</td>\n",
       "    </tr>\n",
       "  </tbody>\n",
       "</table>\n",
       "<p>4236 rows × 9 columns</p>\n",
       "</div>"
      ],
      "text/plain": [
       "      tip_roka  skolska_godina_roka akronim_predmeta  \\\n",
       "0       јануар                 2016        13Д011ММЕ   \n",
       "1       јануар                 2016        13Д011НСЕ   \n",
       "2       јануар                 2016        13Д011ППМ   \n",
       "3       јануар                 2016         13Д021ДС   \n",
       "4       јануар                 2016        13Д021ИОИ   \n",
       "...        ...                  ...              ...   \n",
       "29633   јануар                 2021           ОЗП1.0   \n",
       "29634   јануар                 2021           ОЗП1.0   \n",
       "29635   јануар                 2021           ОЗП2.0   \n",
       "29636   јануар                 2021           ОЗП2.0   \n",
       "29637   јануар                 2021           ОЗП2.0   \n",
       "\n",
       "                                          naziv_predmeta  godina_studija  \\\n",
       "0                Математичко моделирање у електротермији             1.0   \n",
       "1           Надгледање стања електричних машина у погону             2.0   \n",
       "2                 Прелазне појаве у електричним машинама             2.0   \n",
       "3      Дистрибутивни системи - оптимално планирање и ...             1.0   \n",
       "4      Интеграција обновљивих извора у дистрибутивни ...             1.0   \n",
       "...                                                  ...             ...   \n",
       "29633                   Дистрибуирани рачунарски системи             1.0   \n",
       "29634                   Дистрибуирани рачунарски системи             1.0   \n",
       "29635                                   Наука о подацима             1.0   \n",
       "29636                                   Наука о подацима             1.0   \n",
       "29637                                   Наука о подацима             1.0   \n",
       "\n",
       "      akronim_profila                            naziv_profila  \\\n",
       "0              ДС ЕМС  модул Електроенергетске мреже и системи   \n",
       "1              ДС ЕМС  модул Електроенергетске мреже и системи   \n",
       "2              ДС ЕМС  модул Електроенергетске мреже и системи   \n",
       "3              ДС ЕМС  модул Електроенергетске мреже и системи   \n",
       "4            ДС13 ЕМС  модул Електроенергетске мреже и системи   \n",
       "...               ...                                      ...   \n",
       "29633         МС19 ДР          модул Дистрибуирано рачунарство   \n",
       "29634         МС19 ОУ           модул Организација и управљање   \n",
       "29635         МС19 АП                   модул Анализа података   \n",
       "29636         МС19 ДР          модул Дистрибуирано рачунарство   \n",
       "29637         МС19 ОУ           модул Организација и управљање   \n",
       "\n",
       "       ukupno_prijavilo  ukupno_izaslo  \n",
       "0                     1              1  \n",
       "1                     1              0  \n",
       "2                     1              0  \n",
       "3                     1              1  \n",
       "4                     1              1  \n",
       "...                 ...            ...  \n",
       "29633                 3              0  \n",
       "29634                 1              0  \n",
       "29635                 5              2  \n",
       "29636                 3              2  \n",
       "29637                 3              1  \n",
       "\n",
       "[4236 rows x 9 columns]"
      ]
     },
     "execution_count": 20,
     "metadata": {},
     "output_type": "execute_result"
    }
   ],
   "source": [
    "df[df['tip_roka'] == \"јануар\"]"
   ]
  },
  {
   "cell_type": "code",
   "execution_count": 26,
   "metadata": {},
   "outputs": [],
   "source": [
    "doktorski = df[df['akronim_profila'].str.startswith('Д', na=False)]"
   ]
  },
  {
   "cell_type": "code",
   "execution_count": 28,
   "metadata": {},
   "outputs": [],
   "source": [
    "master = df[df['akronim_profila'].str.startswith('М', na=False)]"
   ]
  },
  {
   "cell_type": "code",
   "execution_count": 38,
   "metadata": {},
   "outputs": [
    {
     "name": "stderr",
     "output_type": "stream",
     "text": [
      "c:\\program files\\python36\\lib\\site-packages\\ipykernel_launcher.py:1: UserWarning: Boolean Series key will be reindexed to match DataFrame index.\n",
      "  \"\"\"Entry point for launching an IPython kernel.\n"
     ]
    }
   ],
   "source": [
    "osnovni = df[~df['akronim_profila'].str.startswith('М', na=False)][~df['akronim_profila'].str.startswith('Д', na=False)]"
   ]
  },
  {
   "cell_type": "code",
   "execution_count": 41,
   "metadata": {},
   "outputs": [
    {
     "data": {
      "text/plain": [
       "tip_roka               2025\n",
       "skolska_godina_roka    2025\n",
       "akronim_predmeta       2025\n",
       "naziv_predmeta         2025\n",
       "godina_studija         2025\n",
       "akronim_profila        2025\n",
       "naziv_profila          2025\n",
       "ukupno_prijavilo       2025\n",
       "ukupno_izaslo          2025\n",
       "dtype: int64"
      ]
     },
     "execution_count": 41,
     "metadata": {},
     "output_type": "execute_result"
    }
   ],
   "source": [
    "doktorski.count()"
   ]
  },
  {
   "cell_type": "code",
   "execution_count": null,
   "metadata": {},
   "outputs": [],
   "source": []
  }
 ],
 "metadata": {
  "kernelspec": {
   "display_name": "Python 3",
   "language": "python",
   "name": "python3"
  },
  "language_info": {
   "codemirror_mode": {
    "name": "ipython",
    "version": 3
   },
   "file_extension": ".py",
   "mimetype": "text/x-python",
   "name": "python",
   "nbconvert_exporter": "python",
   "pygments_lexer": "ipython3",
   "version": "3.6.0"
  }
 },
 "nbformat": 4,
 "nbformat_minor": 2
}
