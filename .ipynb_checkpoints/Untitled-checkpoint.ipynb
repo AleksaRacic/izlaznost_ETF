{
 "cells": [
  {
   "cell_type": "code",
   "execution_count": null,
   "metadata": {},
   "outputs": [],
   "source": [
    "!pip3 install pandas"
   ]
  },
  {
   "cell_type": "code",
   "execution_count": null,
   "metadata": {},
   "outputs": [],
   "source": [
    "!\"c:\\Program Files\\Python36\\python.exe\" -m pip install openpyxl"
   ]
  },
  {
   "cell_type": "code",
   "execution_count": 1,
   "metadata": {},
   "outputs": [],
   "source": [
    "import pandas as pd\n",
    "df = pd.read_excel('SQL_export/2022-05-16-etf-izlaznost.xlsx', engine='openpyxl')"
   ]
  },
  {
   "cell_type": "code",
   "execution_count": null,
   "metadata": {},
   "outputs": [],
   "source": [
    "df.columns"
   ]
  },
  {
   "cell_type": "code",
   "execution_count": null,
   "metadata": {},
   "outputs": [],
   "source": [
    "df[df['tip_roka'] == \"јануар\"]"
   ]
  },
  {
   "cell_type": "code",
   "execution_count": 2,
   "metadata": {},
   "outputs": [],
   "source": [
    "doktorski = df[df['akronim_profila'].str.startswith('Д', na=False)]"
   ]
  },
  {
   "cell_type": "code",
   "execution_count": 3,
   "metadata": {},
   "outputs": [],
   "source": [
    "master = df[df['akronim_profila'].str.startswith('М', na=False)]"
   ]
  },
  {
   "cell_type": "code",
   "execution_count": 4,
   "metadata": {},
   "outputs": [
    {
     "name": "stderr",
     "output_type": "stream",
     "text": [
      "c:\\program files\\python36\\lib\\site-packages\\ipykernel_launcher.py:1: UserWarning: Boolean Series key will be reindexed to match DataFrame index.\n",
      "  \"\"\"Entry point for launching an IPython kernel.\n"
     ]
    }
   ],
   "source": [
    "osnovni = df[~df['akronim_profila'].str.startswith('М', na=False)][~df['akronim_profila'].str.startswith('Д', na=False)]"
   ]
  },
  {
   "cell_type": "code",
   "execution_count": null,
   "metadata": {},
   "outputs": [],
   "source": [
    "doktorski.count()"
   ]
  },
  {
   "cell_type": "code",
   "execution_count": 7,
   "metadata": {
    "collapsed": true
   },
   "outputs": [
    {
     "data": {
      "text/html": [
       "<div>\n",
       "<style scoped>\n",
       "    .dataframe tbody tr th:only-of-type {\n",
       "        vertical-align: middle;\n",
       "    }\n",
       "\n",
       "    .dataframe tbody tr th {\n",
       "        vertical-align: top;\n",
       "    }\n",
       "\n",
       "    .dataframe thead th {\n",
       "        text-align: right;\n",
       "    }\n",
       "</style>\n",
       "<table border=\"1\" class=\"dataframe\">\n",
       "  <thead>\n",
       "    <tr style=\"text-align: right;\">\n",
       "      <th></th>\n",
       "      <th>tip_roka</th>\n",
       "      <th>skolska_godina_roka</th>\n",
       "      <th>akronim_predmeta</th>\n",
       "      <th>naziv_predmeta</th>\n",
       "      <th>godina_studija</th>\n",
       "      <th>akronim_profila</th>\n",
       "      <th>naziv_profila</th>\n",
       "      <th>ukupno_prijavilo</th>\n",
       "      <th>ukupno_izaslo</th>\n",
       "    </tr>\n",
       "  </thead>\n",
       "  <tbody>\n",
       "    <tr>\n",
       "      <th>50</th>\n",
       "      <td>јануар</td>\n",
       "      <td>2016</td>\n",
       "      <td>13Е013АСМ</td>\n",
       "      <td>Асинхроне машине</td>\n",
       "      <td>3.0</td>\n",
       "      <td>ОГ 2013</td>\n",
       "      <td>модул Енергетика</td>\n",
       "      <td>89</td>\n",
       "      <td>70</td>\n",
       "    </tr>\n",
       "    <tr>\n",
       "      <th>51</th>\n",
       "      <td>јануар</td>\n",
       "      <td>2016</td>\n",
       "      <td>13Е013АСМ</td>\n",
       "      <td>Асинхроне машине</td>\n",
       "      <td>3.0</td>\n",
       "      <td>ОС 2013</td>\n",
       "      <td>модул Сигнали и системи</td>\n",
       "      <td>1</td>\n",
       "      <td>1</td>\n",
       "    </tr>\n",
       "    <tr>\n",
       "      <th>52</th>\n",
       "      <td>јануар</td>\n",
       "      <td>2016</td>\n",
       "      <td>13Е013ЕВО</td>\n",
       "      <td>Електрична возила</td>\n",
       "      <td>3.0</td>\n",
       "      <td>ОГ 2013</td>\n",
       "      <td>модул Енергетика</td>\n",
       "      <td>4</td>\n",
       "      <td>0</td>\n",
       "    </tr>\n",
       "    <tr>\n",
       "      <th>53</th>\n",
       "      <td>јануар</td>\n",
       "      <td>2016</td>\n",
       "      <td>13Е013ЕВО</td>\n",
       "      <td>Електрична возила</td>\n",
       "      <td>4.0</td>\n",
       "      <td>ОГ 2013</td>\n",
       "      <td>модул Енергетика</td>\n",
       "      <td>17</td>\n",
       "      <td>7</td>\n",
       "    </tr>\n",
       "    <tr>\n",
       "      <th>54</th>\n",
       "      <td>јануар</td>\n",
       "      <td>2016</td>\n",
       "      <td>13Е013ЕИ2</td>\n",
       "      <td>Електричне инсталације ниског напона 2</td>\n",
       "      <td>3.0</td>\n",
       "      <td>ОГ 2013</td>\n",
       "      <td>модул Енергетика</td>\n",
       "      <td>40</td>\n",
       "      <td>40</td>\n",
       "    </tr>\n",
       "  </tbody>\n",
       "</table>\n",
       "</div>"
      ],
      "text/plain": [
       "   tip_roka  skolska_godina_roka akronim_predmeta  \\\n",
       "50   јануар                 2016        13Е013АСМ   \n",
       "51   јануар                 2016        13Е013АСМ   \n",
       "52   јануар                 2016        13Е013ЕВО   \n",
       "53   јануар                 2016        13Е013ЕВО   \n",
       "54   јануар                 2016        13Е013ЕИ2   \n",
       "\n",
       "                            naziv_predmeta  godina_studija akronim_profila  \\\n",
       "50                        Асинхроне машине             3.0         ОГ 2013   \n",
       "51                        Асинхроне машине             3.0         ОС 2013   \n",
       "52                       Електрична возила             3.0         ОГ 2013   \n",
       "53                       Електрична возила             4.0         ОГ 2013   \n",
       "54  Електричне инсталације ниског напона 2             3.0         ОГ 2013   \n",
       "\n",
       "              naziv_profila  ukupno_prijavilo  ukupno_izaslo  \n",
       "50         модул Енергетика                89             70  \n",
       "51  модул Сигнали и системи                 1              1  \n",
       "52         модул Енергетика                 4              0  \n",
       "53         модул Енергетика                17              7  \n",
       "54         модул Енергетика                40             40  "
      ]
     },
     "execution_count": 7,
     "metadata": {},
     "output_type": "execute_result"
    }
   ],
   "source": [
    "osnovni.head()"
   ]
  },
  {
   "cell_type": "code",
   "execution_count": null,
   "metadata": {},
   "outputs": [],
   "source": [
    "osnovni[]"
   ]
  }
 ],
 "metadata": {
  "kernelspec": {
   "display_name": "Python 3",
   "language": "python",
   "name": "python3"
  },
  "language_info": {
   "codemirror_mode": {
    "name": "ipython",
    "version": 3
   },
   "file_extension": ".py",
   "mimetype": "text/x-python",
   "name": "python",
   "nbconvert_exporter": "python",
   "pygments_lexer": "ipython3",
   "version": "3.6.0"
  }
 },
 "nbformat": 4,
 "nbformat_minor": 2
}
